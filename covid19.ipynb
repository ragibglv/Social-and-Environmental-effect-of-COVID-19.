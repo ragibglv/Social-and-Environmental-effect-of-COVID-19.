{
 "cells": [
  {
   "attachments": {},
   "cell_type": "markdown",
   "metadata": {},
   "source": [
    "## The Social and Environmental effect of COVID-19\n",
    "##### Prepared by: Human Resources\n",
    "Hamza Muhammedalian\n",
    "\n",
    "Ragib Guliyev"
   ]
  },
  {
   "attachments": {},
   "cell_type": "markdown",
   "metadata": {},
   "source": [
    "This project aims to analize and study the effects of the covid-19 pandemic on various aspects including CO2 emmitions, export, imports, unempoloyment, inflation rates etc.\n"
   ]
  },
  {
   "attachments": {},
   "cell_type": "markdown",
   "metadata": {},
   "source": [
    "#### The data has been obtained from the following open sourse dataset portals\n",
    "https://ourworldindata.org/\n",
    "\n",
    "https://data.oecd.org/\n",
    "\n",
    "https://data.worldbank.org/\n",
    "\n",
    "https://stats.wto.org/\n"
   ]
  },
  {
   "cell_type": "code",
   "execution_count": 1,
   "metadata": {},
   "outputs": [],
   "source": [
    "import pandas as pd\n",
    "import numpy as np\n",
    "import matplotlib.pyplot as plt\n",
    "import seaborn as sns\n",
    "import plotly.express as px\n",
    "import plotly.graph_objects as go\n",
    "%matplotlib inline\n",
    "sns.set()"
   ]
  },
  {
   "cell_type": "code",
   "execution_count": 2,
   "metadata": {},
   "outputs": [],
   "source": [
    "df = pd.read_csv(\"covid-19.csv\")\n",
    "co2 = pd.read_csv(\"co2.csv\")\n",
    "inflation = pd.read_csv(\"Inflation.csv\")\n",
    "suicide = pd.read_csv(\"suicide.csv\")\n",
    "trade = pd.read_csv(\"trade.csv\")\n",
    "unemployment = pd.read_csv(\"unemployment.csv\")"
   ]
  },
  {
   "cell_type": "code",
   "execution_count": 3,
   "metadata": {},
   "outputs": [],
   "source": [
    "df = pd.DataFrame(df.groupby([\"location\",df[\"date\"].str.split('/').map(lambda x: f\"{x[0]}/{x[2]}\")]).apply(lambda x: x.sum(axis=0)))"
   ]
  },
  {
   "cell_type": "code",
   "execution_count": 4,
   "metadata": {},
   "outputs": [],
   "source": [
    "df.drop([\"location\", \"date\"], axis=1, inplace=True)\n",
    "df.reset_index(inplace=True)\n",
    "df.replace(to_replace=0, value=np.nan, inplace=True)"
   ]
  },
  {
   "cell_type": "code",
   "execution_count": 5,
   "metadata": {},
   "outputs": [
    {
     "name": "stderr",
     "output_type": "stream",
     "text": [
      "/var/folders/q8/p7s2nwrn5wv67j6b66b1z9dm0000gn/T/ipykernel_34951/820435583.py:1: FutureWarning: Dropping of nuisance columns in DataFrame reductions (with 'numeric_only=None') is deprecated; in a future version this will raise TypeError.  Select only valid columns before calling the reduction.\n",
      "  df.fillna(df.mean(), inplace=True)\n"
     ]
    }
   ],
   "source": [
    "df.fillna(df.mean(), inplace=True)"
   ]
  },
  {
   "cell_type": "code",
   "execution_count": 6,
   "metadata": {},
   "outputs": [
    {
     "data": {
      "text/html": [
       "<div>\n",
       "<style scoped>\n",
       "    .dataframe tbody tr th:only-of-type {\n",
       "        vertical-align: middle;\n",
       "    }\n",
       "\n",
       "    .dataframe tbody tr th {\n",
       "        vertical-align: top;\n",
       "    }\n",
       "\n",
       "    .dataframe thead th {\n",
       "        text-align: right;\n",
       "    }\n",
       "</style>\n",
       "<table border=\"1\" class=\"dataframe\">\n",
       "  <thead>\n",
       "    <tr style=\"text-align: right;\">\n",
       "      <th></th>\n",
       "      <th>location</th>\n",
       "      <th>date</th>\n",
       "      <th>total_cases</th>\n",
       "      <th>new_cases</th>\n",
       "      <th>total_deaths</th>\n",
       "      <th>new_deaths</th>\n",
       "      <th>total_cases_per_million</th>\n",
       "      <th>new_cases_per_million</th>\n",
       "      <th>total_deaths_per_million</th>\n",
       "      <th>new_deaths_per_million</th>\n",
       "      <th>aged_65_older</th>\n",
       "      <th>gdp_per_capita</th>\n",
       "      <th>cardiovasc_death_rate</th>\n",
       "      <th>population</th>\n",
       "    </tr>\n",
       "  </thead>\n",
       "  <tbody>\n",
       "    <tr>\n",
       "      <th>396</th>\n",
       "      <td>Asia</td>\n",
       "      <td>3/2020</td>\n",
       "      <td>3595488.0</td>\n",
       "      <td>96833.000000</td>\n",
       "      <td>1.407480e+05</td>\n",
       "      <td>4254.00000</td>\n",
       "      <td>761.533</td>\n",
       "      <td>20.507000</td>\n",
       "      <td>29.811000</td>\n",
       "      <td>0.902000</td>\n",
       "      <td>258.338236</td>\n",
       "      <td>5.733429e+05</td>\n",
       "      <td>7684.160669</td>\n",
       "      <td>1.463629e+11</td>\n",
       "    </tr>\n",
       "    <tr>\n",
       "      <th>7667</th>\n",
       "      <td>United Arab Emirates</td>\n",
       "      <td>1/2020</td>\n",
       "      <td>12.0</td>\n",
       "      <td>4.000000</td>\n",
       "      <td>2.043248e+06</td>\n",
       "      <td>4254.82933</td>\n",
       "      <td>1.272</td>\n",
       "      <td>0.424000</td>\n",
       "      <td>20981.030374</td>\n",
       "      <td>46.898953</td>\n",
       "      <td>3.432000</td>\n",
       "      <td>2.018804e+05</td>\n",
       "      <td>953.520000</td>\n",
       "      <td>2.832341e+07</td>\n",
       "    </tr>\n",
       "    <tr>\n",
       "      <th>2576</th>\n",
       "      <td>France</td>\n",
       "      <td>11/2021</td>\n",
       "      <td>221854590.0</td>\n",
       "      <td>508751.000000</td>\n",
       "      <td>3.550631e+06</td>\n",
       "      <td>1476.00000</td>\n",
       "      <td>3271564.302</td>\n",
       "      <td>7502.263000</td>\n",
       "      <td>52359.150000</td>\n",
       "      <td>21.766000</td>\n",
       "      <td>591.540000</td>\n",
       "      <td>1.158170e+06</td>\n",
       "      <td>2581.800000</td>\n",
       "      <td>2.034390e+09</td>\n",
       "    </tr>\n",
       "    <tr>\n",
       "      <th>6840</th>\n",
       "      <td>South America</td>\n",
       "      <td>2/2020</td>\n",
       "      <td>19.0</td>\n",
       "      <td>4.000000</td>\n",
       "      <td>2.043248e+06</td>\n",
       "      <td>4254.82933</td>\n",
       "      <td>0.045</td>\n",
       "      <td>0.009000</td>\n",
       "      <td>20981.030374</td>\n",
       "      <td>46.898953</td>\n",
       "      <td>258.338236</td>\n",
       "      <td>5.733429e+05</td>\n",
       "      <td>7684.160669</td>\n",
       "      <td>3.494533e+09</td>\n",
       "    </tr>\n",
       "    <tr>\n",
       "      <th>693</th>\n",
       "      <td>Belarus</td>\n",
       "      <td>9/2022</td>\n",
       "      <td>29821110.0</td>\n",
       "      <td>361800.842214</td>\n",
       "      <td>2.135400e+05</td>\n",
       "      <td>4254.82933</td>\n",
       "      <td>3127556.130</td>\n",
       "      <td>5787.218869</td>\n",
       "      <td>22395.480000</td>\n",
       "      <td>46.898953</td>\n",
       "      <td>443.970000</td>\n",
       "      <td>5.150390e+05</td>\n",
       "      <td>13293.870000</td>\n",
       "      <td>2.860487e+08</td>\n",
       "    </tr>\n",
       "  </tbody>\n",
       "</table>\n",
       "</div>"
      ],
      "text/plain": [
       "                  location     date  total_cases      new_cases  total_deaths  \\\n",
       "396                   Asia   3/2020    3595488.0   96833.000000  1.407480e+05   \n",
       "7667  United Arab Emirates   1/2020         12.0       4.000000  2.043248e+06   \n",
       "2576                France  11/2021  221854590.0  508751.000000  3.550631e+06   \n",
       "6840         South America   2/2020         19.0       4.000000  2.043248e+06   \n",
       "693                Belarus   9/2022   29821110.0  361800.842214  2.135400e+05   \n",
       "\n",
       "      new_deaths  total_cases_per_million  new_cases_per_million  \\\n",
       "396   4254.00000                  761.533              20.507000   \n",
       "7667  4254.82933                    1.272               0.424000   \n",
       "2576  1476.00000              3271564.302            7502.263000   \n",
       "6840  4254.82933                    0.045               0.009000   \n",
       "693   4254.82933              3127556.130            5787.218869   \n",
       "\n",
       "      total_deaths_per_million  new_deaths_per_million  aged_65_older  \\\n",
       "396                  29.811000                0.902000     258.338236   \n",
       "7667              20981.030374               46.898953       3.432000   \n",
       "2576              52359.150000               21.766000     591.540000   \n",
       "6840              20981.030374               46.898953     258.338236   \n",
       "693               22395.480000               46.898953     443.970000   \n",
       "\n",
       "      gdp_per_capita  cardiovasc_death_rate    population  \n",
       "396     5.733429e+05            7684.160669  1.463629e+11  \n",
       "7667    2.018804e+05             953.520000  2.832341e+07  \n",
       "2576    1.158170e+06            2581.800000  2.034390e+09  \n",
       "6840    5.733429e+05            7684.160669  3.494533e+09  \n",
       "693     5.150390e+05           13293.870000  2.860487e+08  "
      ]
     },
     "execution_count": 6,
     "metadata": {},
     "output_type": "execute_result"
    }
   ],
   "source": [
    "df.sample(5)"
   ]
  },
  {
   "cell_type": "code",
   "execution_count": 7,
   "metadata": {},
   "outputs": [],
   "source": [
    "df['date']= pd.to_datetime(df['date']) "
   ]
  },
  {
   "cell_type": "code",
   "execution_count": 8,
   "metadata": {},
   "outputs": [],
   "source": [
    "df.drop(df[df[\"date\"] > \"2022-10-01\"].index, inplace=True)\n",
    "df.drop(df[df[\"date\"] < \"2020-04-01\"].index, inplace=True)"
   ]
  },
  {
   "attachments": {},
   "cell_type": "markdown",
   "metadata": {},
   "source": [
    "#### In the cells above, the datasets were read and clean to be used in our analysis"
   ]
  },
  {
   "cell_type": "code",
   "execution_count": 9,
   "metadata": {},
   "outputs": [
    {
     "data": {
      "image/png": "[encoded data removed]",
      "text/plain": [
       "<Figure size 1200x600 with 1 Axes>"
      ]
     },
     "metadata": {},
     "output_type": "display_data"
    }
   ],
   "source": [
    "df[\"date\"] = pd.to_datetime(df[\"date\"])\n",
    "\n",
    "temp = df[df[\"date\"] == '2022-09-01'].groupby(\"location\")[\"total_cases_per_million\"]\n",
    "mx = temp.max().idxmax()\n",
    "mn = temp.min().idxmin()\n",
    "\n",
    "fig, ax = plt.subplots(figsize=(12,6))\n",
    "\n",
    "# Plotting only selected countries\n",
    "selected_countries = [mn, mx, \"Turkey\", \"United States\", \"Germany\"]\n",
    "other_countries = df[~df[\"location\"].isin(selected_countries)]\n",
    "\n",
    "# Plotting other countries\n",
    "ax.plot(other_countries[\"date\"], other_countries[\"total_cases_per_million\"], label='Others', color=\"#C9E3EB\", alpha=0.5)\n",
    "\n",
    "colors = {\"Turkey\": \"black\", \"United States\": \"green\", \"Germany\": \"blue\", mn: \"#BE00AF\", mx: \"red\"}\n",
    "\n",
    "for country in selected_countries:\n",
    "    country_data = df[df[\"location\"] == country].sort_values(\"date\")\n",
    "    ax.plot(country_data[\"date\"], country_data[\"total_cases_per_million\"],\n",
    "            label=country, color=colors[country], linewidth=2.5)\n",
    "\n",
    "plt.xticks(rotation=75)\n",
    "plt.title(\"Total cases per million for each country\")\n",
    "plt.xlabel(\"Date\")\n",
    "plt.ylabel(\"Total cases per million\")\n",
    "ax.legend(title='Country', loc='upper left')\n",
    "plt.tight_layout()\n",
    "plt.show()\n"
   ]
  },
  {
   "attachments": {},
   "cell_type": "markdown",
   "metadata": {},
   "source": [
    "**This graph shows us the progress of the total cases per million of population in each country, we visualized the maximum, minimum values and also visualize 3 of the different countries to show the dynamics of the progress of the cases among the world countries.**"
   ]
  },
  {
   "cell_type": "code",
   "execution_count": 10,
   "metadata": {},
   "outputs": [
    {
     "data": {
      "application/vnd.plotly.v1+json": {
       "config": {
        "plotlyServerURL": "https://plot.ly"
       },
       "data": [
        {
         "coloraxis": "coloraxis",
         "customdata": [
          [
           1233863160,
           54119.61000000001,
           5682.835000000001
          ],
          [
           42802098420,
           573342.9310831022,
           5396.781000000001
          ],
          [
           85269540,
           354102.92999999993,
           37851.50299999999
          ],
          [
           1347096840,
           417415.16999999987,
           4595.813999999999
          ],
          [
           2395290,
           573342.9310831022,
           58164.149999999994
          ],
          [
           1067669880,
           174584.84999999998,
           1615.95
          ],
          [
           476310,
           573342.9310831022,
           22422.36400000001
          ],
          [
           2813160,
           644728.2899999998,
           46442.44000000001
          ],
          [
           1365309720,
           568017.21,
           85578.23000000001
          ],
          [
           83414160,
           263627.3999999999,
           93547.06099999997
          ],
          [
           3193770,
           1079213.43,
           64250.09399999999
          ],
          [
           141641501100,
           573342.9310831022,
           9402.946000000002
          ],
          [
           785322300,
           1339461.2999999998,
           16736.454999999998
          ],
          [
           268188510,
           1363100.58,
           69425.456
          ],
          [
           310742340,
           475422.56999999995,
           28587.540999999994
          ],
          [
           12299670,
           831535.4099999997,
           60611.38600000001
          ],
          [
           44167110,
           1298721.1500000004,
           30938.624999999996
          ],
          [
           5135591040,
           105719.51999999997,
           5141.816
          ],
          [
           8449380,
           509342.0399999998,
           59155.819999999985
          ],
          [
           286048680,
           515039.01,
           22395.479999999996
          ],
          [
           349677690,
           1279757.2799999993,
           83925.22499999998
          ],
          [
           12158550,
           234730.85999999996,
           50423.783999999985
          ],
          [
           400585920,
           61927.07999999998,
           366.21
          ],
          [
           1926210,
           1520079.4499999997,
           69151.34999999999
          ],
          [
           23473710,
           261257.91000000003,
           805.1699999999996
          ],
          [
           366723420,
           206574.87,
           54535.64699999999
          ],
          [
           811560,
           573342.9310831022,
           42141.05999999998
          ],
          [
           97005900,
           351416.8500000001,
           149387.826
          ],
          [
           78909000,
           474221.2200000001,
           31762.153999999995
          ],
          [
           6459405120,
           423103.55999999994,
           95458.43499999998
          ],
          [
           939960,
           573342.9310831022,
           61279.2
          ],
          [
           13470060,
           2154277.53,
           15033.330000000005
          ],
          [
           203458650,
           556899.2100000002,
           166612.13299999997
          ],
          [
           680212920,
           51093.06,
           512.04
          ],
          [
           386687490,
           21066.749999999993,
           88.43999999999996
          ],
          [
           503035530,
           109352.10000000005,
           5467.619999999999
          ],
          [
           837436260,
           100947.78000000004,
           2079.5699999999997
          ],
          [
           1153629840,
           1320527.73,
           34987.164000000004
          ],
          [
           17794860,
           186676.62000000002,
           20736.329999999994
          ],
          [
           2061660,
           1497090.8700000006,
           13169.001000000004
          ],
          [
           167374440,
           19837.200000000008,
           607.6200000000001
          ],
          [
           531699360,
           53044.58999999999,
           326.69999999999993
          ],
          [
           588112080,
           683011.1100000001,
           93104.14199999999
          ],
          [
           42776620800,
           459261.36,
           116.67099999999999
          ],
          [
           1556220840,
           397648.47000000015,
           81961.45999999999
          ],
          [
           25103490,
           42416.7,
           5772.120000000003
          ],
          [
           179112900,
           146442.17999999996,
           1939.5600000000004
          ],
          [
           510960,
           573342.9310831022,
           1761.3899999999999
          ],
          [
           155425080,
           465749.85,
           51604.221000000005
          ],
          [
           844816440,
           108030.17999999996,
           875.622
          ],
          [
           120910830,
           680093.9100000001,
           125196.47899999999
          ],
          [
           336365940,
           573342.9310831022,
           22823.36999999999
          ],
          [
           5735190,
           573342.9310831022,
           45037.74000000001
          ],
          [
           26880210,
           972453.96,
           39363.530999999995
          ],
          [
           314819700,
           978177.1799999997,
           117064.72199999998
          ],
          [
           2970306480,
           24243.990000000013,
           431.90800000000013
          ],
          [
           176467770,
           1400475.4499999993,
           35668.44000000001
          ],
          [
           33625530,
           81162.18000000001,
           5058.660000000002
          ],
          [
           2182740,
           290201.01000000007,
           28368.01
          ],
          [
           336864630,
           438025.82999999984,
           11712.719999999994
          ],
          [
           540030060,
           317458.0799999999,
           59795.668999999994
          ],
          [
           3329702880,
           316506.18000000005,
           6702.246000000001
          ],
          [
           190091790,
           218773.74000000008,
           20014.382000000005
          ],
          [
           1696500000,
           573342.9310831022,
           20981.03037361551
          ],
          [
           50247480,
           678146.1900000002,
           3277.77
          ],
          [
           110521230,
           45313.77000000002,
           838.7399999999998
          ],
          [
           39781920,
           884437.5599999998,
           60233.88999999999
          ],
          [
           36050400,
           232169.25000000006,
           35500.29000000001
          ],
          [
           3701397840,
           51897.81000000002,
           1841.1300000000006
          ],
          [
           22344234090,
           573342.9310831022,
           77956.84099999999
          ],
          [
           13504403790,
           573342.9310831022,
           76187.985
          ],
          [
           1593510,
           573342.9310831022,
           15814.140000000007
          ],
          [
           114030,
           573342.9310831022,
           20981.03037361551
          ],
          [
           27893070,
           261089.25000000006,
           28329.63
          ],
          [
           166222350,
           1217571.6299999997,
           31524.644
          ],
          [
           2034390000,
           1158170.1300000001,
           68439.197
          ],
          [
           9188760,
           573342.9310831022,
           63566.78999999998
          ],
          [
           71669910,
           496872.39,
           3842.6099999999997
          ],
          [
           81179850,
           46853.01,
           4119.75
          ],
          [
           112331550,
           292352.3700000001,
           135016.299
          ],
          [
           2501095200,
           1356877.3500000008,
           53539.93800000001
          ],
          [
           1004276100,
           126828.90000000002,
           1307.5200000000004
          ],
          [
           980310,
           573342.9310831022,
           99152.31000000003
          ],
          [
           311549160,
           737231.46,
           94928.61400000002
          ],
          [
           1694820,
           573342.9310831022,
           11151.629999999997
          ],
          [
           3763770,
           407816.3099999999,
           56488.580000000016
          ],
          [
           535317420,
           222714.23999999993,
           33089.994
          ],
          [
           1899870,
           573342.9310831022,
           20981.03037361551
          ],
          [
           415780470,
           59967.78,
           971.0460000000003
          ],
          [
           63167400,
           46460.250000000015,
           2493.36
          ],
          [
           24261810,
           223051.40999999995,
           47483.26999999999
          ],
          [
           347550090,
           49595.19000000002,
           2206.6479999999992
          ],
          [
           37515438000,
           573342.9310831022,
           63734.803
          ],
          [
           312985740,
           136253.85,
           31602.556999999993
          ],
          [
           224665890,
           1681647.5999999996,
           39635.92100000001
          ],
          [
           299019120,
           803326.83,
           142655.02599999998
          ],
          [
           11187090,
           1394488.7400000007,
           17135.819999999996
          ],
          [
           42515193600,
           192800.22,
           11183.38
          ],
          [
           8265040320,
           335662.32000000007,
           17189.060999999998
          ],
          [
           3825526243.848132,
           573342.9310831022,
           20981.03037361551
          ],
          [
           2656517040,
           572478.6,
           48863.19800000001
          ],
          [
           1334883720,
           469919.57999999984,
           17091.2
          ],
          [
           150693240,
           2020058.7900000005,
           47124.414
          ],
          [
           2536020,
           573342.9310831022,
           41166.869999999995
          ],
          [
           283470000,
           993969.5999999996,
           37033.969
          ],
          [
           1771124160,
           1056602.5200000003,
           89655.85499999997
          ],
          [
           84821460,
           245807.12999999998,
           34897.301
          ],
          [
           3718550880,
           1170066.69,
           10435.039
          ],
          [
           3323880,
           573342.9310831022,
           20981.03037361551
          ],
          [
           338576250,
           250124.69999999995,
           37521.772999999994
          ],
          [
           581939940,
           721667.6399999999,
           29455.305
          ],
          [
           1620824520,
           89790.84000000003,
           3151.1220000000003
          ],
          [
           3937110,
           59433.95999999999,
           2971.7099999999987
          ],
          [
           53463450,
           293875.0199999999,
           53848.37399999998
          ],
          [
           128066580,
           1965916.1099999999,
           18011.729999999996
          ],
          [
           198918630,
           101804.22000000002,
           13532.67
          ],
          [
           225884310,
           191920.7999999999,
           3017.735999999999
          ],
          [
           55519620,
           751915.3800000001,
           96727.426
          ],
          [
           164692320,
           401026.95,
           58221.29400000001
          ],
          [
           69174780,
           85534.59000000003,
           9172.425000000001
          ],
          [
           159080700,
           22583.640000000003,
           1663.3199999999997
          ],
          [
           204370320,
           536445.27,
           28347.060000000012
          ],
          [
           1180650,
           573342.9310831022,
           65557.11
          ],
          [
           82501740,
           885727.9500000001,
           101487.67400000001
          ],
          [
           22128147000,
           573342.9310831022,
           1935.211
          ],
          [
           102962919000,
           573342.9310831022,
           11648.107
          ],
          [
           19428030,
           2828338.9499999993,
           52132.403000000006
          ],
          [
           20855400,
           3145855.5299999984,
           258.93
          ],
          [
           888351540,
           42493.20000000001,
           1428.48
          ],
          [
           612159540,
           32851.26,
           3939.2090000000007
          ],
          [
           1018146480,
           804244.9199999999,
           32090.492
          ],
          [
           15713940,
           455508.47999999986,
           17640.390000000003
          ],
          [
           677807940,
           60429.17999999998,
           982.2650000000001
          ],
          [
           15998790,
           1095399.69,
           45181.54500000001
          ],
          [
           1247790,
           114576.06000000003,
           12261.69
          ],
          [
           142084380,
           107928.99,
           6293.718000000001
          ],
          [
           38984340,
           608782.35,
           23639.49499999999
          ],
          [
           3825123600,
           520094.06999999995,
           77603.88900000001
          ],
          [
           3425340,
           98983.92000000004,
           7654.718000000002
          ],
          [
           98189790,
           155699.16000000003,
           108152.38600000003
          ],
          [
           1094730,
           573342.9310831022,
           51519.55
          ],
          [
           101951190,
           355225.3800000001,
           18803.118999999995
          ],
          [
           18812460,
           492278.64,
           132947.53100000002
          ],
          [
           132390,
           573342.9310831022,
           54384.780000000006
          ],
          [
           1123739280,
           224550.39000000004,
           13035.622999999996
          ],
          [
           989085600,
           34083.090000000004,
           2021.4489999999996
          ],
          [
           1625379360,
           167747.91000000003,
           10768.032999999996
          ],
          [
           77010720,
           286254.24000000005,
           47657.121000000014
          ],
          [
           380730,
           386869.05000000005,
           2363.8799999999997
          ],
          [
           916427580,
           73284.12000000002,
           11798.056000000002
          ],
          [
           526920600,
           1454176.3499999996,
           38788.954
          ],
          [
           8698770,
           573342.9310831022,
           32487.36
          ],
          [
           155558670,
           1082575.29,
           11368.702000000001
          ],
          [
           208451850,
           159643.31999999995,
           1055.0639999999999
          ],
          [
           786239460,
           27780,
           357.6059999999999
          ],
          [
           6556236480,
           160153.62,
           432.86100000000005
          ],
          [
           58560,
           573342.9310831022,
           20981.03037361551
          ],
          [
           18009709710,
           573342.9310831022,
           75228.47600000001
          ],
          [
           782082480,
           573342.9310831022,
           6.900000000000003
          ],
          [
           62808180,
           393336.41999999987,
           136351.34499999997
          ],
          [
           11485080,
           573342.9310831022,
           20981.03037361551
          ],
          [
           56880000,
           573342.9310831022,
           20981.03037361551
          ],
          [
           163029720,
           1944001.7100000002,
           22267.16900000001
          ],
          [
           1351165800,
           573342.9310831022,
           12893.068000000001
          ],
          [
           137289000,
           1138821.2700000003,
           30338.909999999993
          ],
          [
           7074745920,
           151041.24000000005,
           3892.919
          ],
          [
           542520,
           397212.1500000002,
           9953.55
          ],
          [
           157502280,
           133496.94,
           32606.380999999994
          ],
          [
           132257460,
           668011.1100000001,
           57742.83
          ],
          [
           304278750,
           114695.82000000002,
           1964.7699999999995
          ],
          [
           203422350,
           264810.30000000005,
           86460.41
          ],
          [
           1021487640,
           367101.18000000005,
           190504.009
          ],
          [
           3466770240,
           227975.63999999996,
           16212.682000000004
          ],
          [
           1195714320,
           816493.3499999996,
           88306.374
          ],
          [
           308125710,
           838106.8799999997,
           72858.18299999999
          ],
          [
           80853930,
           3508068.000000001,
           7588.5019999999995
          ],
          [
           589778100,
           699395.9700000002,
           102073.27299999999
          ],
          [
           4341399360,
           742978.6200000002,
           78362.48599999999
          ],
          [
           413301060,
           55626.330000000016,
           3192.3599999999988
          ],
          [
           162030,
           573342.9310831022,
           20981.03037361551
          ],
          [
           1430430,
           739631.55,
           28942.349999999995
          ],
          [
           5396160,
           388555.16999999987,
           65402.063000000024
          ],
          [
           176550,
           573342.9310831022,
           5097.72
          ],
          [
           3118770,
           321814.38000000006,
           33368.93
          ],
          [
           6671700,
           180646.71,
           3912.06
          ],
          [
           1010700,
           1705844.0999999999,
           105075.69
          ],
          [
           6821790,
           91581.42000000004,
           10075.067999999996
          ],
          [
           1092264720,
           1471362.3300000005,
           7683.769999999999
          ],
          [
           163980000,
           573342.9310831022,
           20981.03037361551
          ],
          [
           519493560,
           74117.40000000001,
           3409.4699999999993
          ],
          [
           206146410,
           421466.42999999993,
           73596.52799999998
          ],
          [
           3214050,
           791468.6100000001,
           47323.47
          ],
          [
           258171690,
           41709.000000000015,
           439.23000000000013
          ],
          [
           169110660,
           2566061.4899999998,
           8542.632000000001
          ],
          [
           1325760,
           1089816.96,
           20981.03037361551
          ],
          [
           169303650,
           904654.5599999999,
           108191.52900000001
          ],
          [
           63595290,
           942025.1999999998,
           96242.504
          ],
          [
           21728160,
           66177.69,
           6337.410000000002
          ],
          [
           527925240,
           573342.9310831022,
           2320.2000000000003
          ],
          [
           1796816520,
           368846.2799999999,
           51161.792000000016
          ],
          [
           13104500370,
           573342.9310831022,
           91157.314
          ],
          [
           1554474240,
           1078151.2199999997,
           16056.856
          ],
          [
           327395160,
           47096.63999999999,
           379.3499999999999
          ],
          [
           1426758960,
           1028170.7999999999,
           71571.693
          ],
          [
           654964500,
           350072.30999999994,
           22998.149
          ],
          [
           1406226000,
           133995.21,
           3175.0799999999986
          ],
          [
           18541380,
           413013.57000000007,
           67187.56999999999
          ],
          [
           316480470,
           1408478.4900000005,
           57042.94899999999
          ],
          [
           262214130,
           1722304.9799999997,
           48021.443
          ],
          [
           663757260,
           573342.9310831022,
           4288.7699999999995
          ],
          [
           716801880,
           573342.9310831022,
           13140.118999999999
          ],
          [
           298583670,
           86907.39,
           376.77000000000015
          ],
          [
           1964932560,
           80499.12000000002,
           386.78600000000006
          ],
          [
           2150910720,
           488330.12999999983,
           13639.171999999999
          ],
          [
           40238940,
           197103.06000000008,
           3086.5500000000015
          ],
          [
           265461000,
           42894.390000000014,
           962.398
          ],
          [
           56790,
           573342.9310831022,
           20981.03037361551
          ],
          [
           3206010,
           162768.6300000001,
           3368.6700000000014
          ],
          [
           45931290,
           862892.13,
           81910.826
          ],
          [
           370683480,
           325478.91000000015,
           70997.63700000002
          ],
          [
           2560237440,
           753880.2300000001,
           35496.437
          ],
          [
           25723108,
           65556.092,
           20981.03037361551
          ],
          [
           1371780,
           573342.9310831022,
           23618.939999999995
          ],
          [
           340050,
           107253.12000000004,
           20981.03037361551
          ],
          [
           1417487640,
           50931.210000000014,
           2303.982
          ],
          [
           1191052320,
           236831.79000000007,
           88226.17700000001
          ],
          [
           283234140,
           2018804.4899999998,
           7442.950000000001
          ],
          [
           2025268080,
           1192597.3199999996,
           92258.12399999998
          ],
          [
           10148695680,
           1626763.3800000001,
           93380.463
          ],
          [
           102683880,
           616542.2699999999,
           65424.585
          ],
          [
           1038829440,
           187593.11999999997,
           1418.2199999999993
          ],
          [
           9802320,
           87657.27,
           1285.4099999999999
          ],
          [
           24240,
           573342.9310831022,
           20981.03037361551
          ],
          [
           849051000,
           502350.66000000003,
           6156.907
          ],
          [
           2945605680,
           185156.51999999996,
           13179.411
          ],
          [
           95100000,
           573342.9310831022,
           20981.03037361551
          ],
          [
           347880,
           573342.9310831022,
           18109.679999999993
          ],
          [
           239253150720,
           464076.20999999996,
           24541.265000000003
          ],
          [
           1010898360,
           44374.40999999998,
           1919.1209999999996
          ],
          [
           600530100,
           110677.53000000003,
           6020.039999999999
          ],
          [
           489616170,
           56993.250000000015,
           10289.182999999999
          ]
         ],
         "geo": "geo",
         "hovertemplate": "location=%{location}<br>population=%{customdata[0]}<br>gdp_per_capita=%{customdata[1]}<br>total_deaths_per_million=%{customdata[2]}<br>total cases per million=%{z}<extra></extra>",
         "locationmode": "country names",
         "locations": [
          "Afghanistan",
          "Africa",
          "Albania",
          "Algeria",
          "Andorra",
          "Angola",
          "Anguilla",
          "Antigua and Barbuda",
          "Argentina",
          "Armenia",
          "Aruba",
          "Asia",
          "Australia",
          "Austria",
          "Azerbaijan",
          "Bahamas",
          "Bahrain",
          "Bangladesh",
          "Barbados",
          "Belarus",
          "Belgium",
          "Belize",
          "Benin",
          "Bermuda",
          "Bhutan",
          "Bolivia",
          "Bonaire Sint Eustatius and Saba",
          "Bosnia and Herzegovina",
          "Botswana",
          "Brazil",
          "British Virgin Islands",
          "Brunei",
          "Bulgaria",
          "Burkina Faso",
          "Burundi",
          "Cambodia",
          "Cameroon",
          "Canada",
          "Cape Verde",
          "Cayman Islands",
          "Central African Republic",
          "Chad",
          "Chile",
          "China",
          "Colombia",
          "Comoros",
          "Congo",
          "Cook Islands",
          "Costa Rica",
          "Cote d'Ivoire",
          "Croatia",
          "Cuba",
          "Curacao",
          "Cyprus",
          "Czechia",
          "Democratic Republic of Congo",
          "Denmark",
          "Djibouti",
          "Dominica",
          "Dominican Republic",
          "Ecuador",
          "Egypt",
          "El Salvador",
          "England",
          "Equatorial Guinea",
          "Eritrea",
          "Estonia",
          "Eswatini",
          "Ethiopia",
          "Europe",
          "European Union",
          "Faeroe Islands",
          "Falkland Islands",
          "Fiji",
          "Finland",
          "France",
          "French Polynesia",
          "Gabon",
          "Gambia",
          "Georgia",
          "Germany",
          "Ghana",
          "Gibraltar",
          "Greece",
          "Greenland",
          "Grenada",
          "Guatemala",
          "Guernsey",
          "Guinea",
          "Guinea-Bissau",
          "Guyana",
          "Haiti",
          "High income",
          "Honduras",
          "Hong Kong",
          "Hungary",
          "Iceland",
          "India",
          "Indonesia",
          "International",
          "Iran",
          "Iraq",
          "Ireland",
          "Isle of Man",
          "Israel",
          "Italy",
          "Jamaica",
          "Japan",
          "Jersey",
          "Jordan",
          "Kazakhstan",
          "Kenya",
          "Kiribati",
          "Kosovo",
          "Kuwait",
          "Kyrgyzstan",
          "Laos",
          "Latvia",
          "Lebanon",
          "Lesotho",
          "Liberia",
          "Libya",
          "Liechtenstein",
          "Lithuania",
          "Low income",
          "Lower middle income",
          "Luxembourg",
          "Macao",
          "Madagascar",
          "Malawi",
          "Malaysia",
          "Maldives",
          "Mali",
          "Malta",
          "Marshall Islands",
          "Mauritania",
          "Mauritius",
          "Mexico",
          "Micronesia (country)",
          "Moldova",
          "Monaco",
          "Mongolia",
          "Montenegro",
          "Montserrat",
          "Morocco",
          "Mozambique",
          "Myanmar",
          "Namibia",
          "Nauru",
          "Nepal",
          "Netherlands",
          "New Caledonia",
          "New Zealand",
          "Nicaragua",
          "Niger",
          "Nigeria",
          "Niue",
          "North America",
          "North Korea",
          "North Macedonia",
          "Northern Cyprus",
          "Northern Ireland",
          "Norway",
          "Oceania",
          "Oman",
          "Pakistan",
          "Palau",
          "Palestine",
          "Panama",
          "Papua New Guinea",
          "Paraguay",
          "Peru",
          "Philippines",
          "Poland",
          "Portugal",
          "Qatar",
          "Romania",
          "Russia",
          "Rwanda",
          "Saint Helena",
          "Saint Kitts and Nevis",
          "Saint Lucia",
          "Saint Pierre and Miquelon",
          "Saint Vincent and the Grenadines",
          "Samoa",
          "San Marino",
          "Sao Tome and Principe",
          "Saudi Arabia",
          "Scotland",
          "Senegal",
          "Serbia",
          "Seychelles",
          "Sierra Leone",
          "Singapore",
          "Sint Maarten (Dutch part)",
          "Slovakia",
          "Slovenia",
          "Solomon Islands",
          "Somalia",
          "South Africa",
          "South America",
          "South Korea",
          "South Sudan",
          "Spain",
          "Sri Lanka",
          "Sudan",
          "Suriname",
          "Sweden",
          "Switzerland",
          "Syria",
          "Taiwan",
          "Tajikistan",
          "Tanzania",
          "Thailand",
          "Timor",
          "Togo",
          "Tokelau",
          "Tonga",
          "Trinidad and Tobago",
          "Tunisia",
          "Turkey",
          "Turkmenistan",
          "Turks and Caicos Islands",
          "Tuvalu",
          "Uganda",
          "Ukraine",
          "United Arab Emirates",
          "United Kingdom",
          "United States",
          "Uruguay",
          "Uzbekistan",
          "Vanuatu",
          "Vatican",
          "Venezuela",
          "Vietnam",
          "Wales",
          "Wallis and Futuna",
          "World",
          "Yemen",
          "Zambia",
          "Zimbabwe"
         ],
         "name": "",
         "type": "choropleth",
         "z": [
          143428.207,
          259518.71700000003,
          3496149.974,
          180764.555,
          17330160.446,
          86823.74800000002,
          7281224.409,
          2881681.103,
          6392530.385999998,
          4738144.461,
          12103251.007999998,
          1162136.2910000002,
          11627581.99,
          16855564.171,
          2370736.25,
          2720416.8920000014,
          13768628.285999998,
          353548.1809999999,
          10867365.418,
          3127556.129999999,
          11609035.422999997,
          5078645.892999998,
          61950.448,
          8432429.486,
          2357425.391999999,
          2715260.4230000004,
          12522068.610999996,
          3688175.7740000007,
          3718955.2489999994,
          4814815.807,
          6990871.953999998,
          14981049.079000002,
          5533456.649999999,
          28043.515999999996,
          115719.88699999999,
          246460.622,
          130740.45000000001,
          3307299.3479999998,
          3153322.364,
          13265329.873000002,
          80083.56300000001,
          12798.342,
          6996226.331,
          20562.659000000003,
          3646322.282,
          303426.342,
          124800.06000000006,
          11240136.214999996,
          6393565.825999999,
          92672.627,
          9104152.206999999,
          2972531.8800000004,
          7114268.23,
          19466102.391000003,
          12556000.627,
          28111.579999999998,
          16753797.988,
          419948.76000000007,
          6173066.888,
          1715696.4169999997,
          1666593.7820000006,
          139375.95,
          955362.1500000001,
          1933604.9847954635,
          304215.84900000005,
          82762.383,
          13566640.818999998,
          1831833.7719999999,
          119971.02099999998,
          9123155.624000002,
          11067957.535,
          19574524.169999994,
          14920284.123,
          2200971.424,
          6913606.373999999,
          15454695.558999997,
          7498139.033,
          611202.1059999999,
          137796.258,
          14085298.650999999,
          11759293.601,
          151212.05399999997,
          18431312.548999995,
          13974805.033,
          6356958.270000001,
          4652340.604,
          1872479.381,
          1933604.9847954635,
          81422.86799999997,
          125179.27700000003,
          2642054.735999999,
          87193.07800000004,
          9025187.465,
          1309968.8530000006,
          6717663.9509999985,
          6226155.845,
          16509285.25,
          942489.1969999999,
          697044.213,
          1933604.9847954635,
          2554853.46,
          1657778.4390000002,
          9915063.338999998,
          13488537.149999997,
          14756620.169,
          11248758.872,
          1602298.8750000002,
          4939181.098999999,
          1933604.9847954635,
          4630991.488,
          2291707.478,
          187861.49699999997,
          784077.6600000001,
          4577553.639,
          4623770.689999999,
          931669.898,
          857437.6390000001,
          14800049.064,
          6629823.722999998,
          447271.83400000015,
          44854.40200000002,
          2232340.588,
          14787244.311000003,
          13453416.618000003,
          91047.30200000001,
          837370.2040000001,
          13393967.887,
          34221.36,
          67527.254,
          129315.06300000002,
          4255036.154,
          10593572.330999998,
          42851.564,
          6433555.286,
          10942129.685000002,
          397682.843,
          6000240.097000002,
          1661814.0050000001,
          2497503.8989999993,
          5337631.948999999,
          11909594.148999998,
          8664547.120000001,
          13300287.682000002,
          8853840.927,
          1012917.3809999999,
          209456.43199999997,
          342485.24300000013,
          1978006.4399999995,
          10898904.738000002,
          981020.4290000001,
          14373368.909999998,
          7676361.136000001,
          10202634.990999999,
          64717.53999999999,
          10740.968,
          36329.464,
          1933604.9847954635,
          5662621.788000001,
          1.1400000000000001,
          4898668.135,
          1933604.9847954635,
          1933604.9847954635,
          8067304.418,
          8182344.779,
          2609200.879,
          199889.22099999996,
          9010395.930000002,
          4015040.359,
          6693794.964000002,
          132896.759,
          3167174.997,
          3638131.0389999994,
          1016573.447,
          4692558.577,
          15934190.691,
          4896287.416000001,
          4955669.973,
          4146907.6190000004,
          288495.245,
          2626735.788,
          4110756.9050000003,
          4839207.888,
          16109090.91,
          2724391.3419999992,
          2142992.0500000003,
          18302819.828,
          817083.1960000002,
          671504.825,
          1933604.9847954635,
          152865.899,
          10155909.723,
          12972632.652,
          27015.509000000002,
          9957937.542,
          1933604.9847954635,
          13834554.713000001,
          16318154.220000003,
          892371.9300000002,
          46252.80199999998,
          2011263.0720000002,
          4379159.115999999,
          14029723.246,
          48994.919999999984,
          8440365.213,
          921342.192,
          40494.41000000002,
          3935368.882,
          7328321.294999998,
          13978727.230999999,
          77551.01499999998,
          7377615.095000001,
          53611.10999999998,
          17944.204,
          1954436.2529999996,
          519474.421,
          131342.11899999998,
          1933604.9847954635,
          4523211.097999999,
          3558480.0700000008,
          2779949.4590000007,
          5916657.206000002,
          1933604.9847954635,
          4183199.924999999,
          52933.379999999976,
          107553.95999999999,
          4072266.673,
          3246820.773,
          10477587.739,
          8472593.338,
          8613144.922,
          211396.052,
          1094220.5620000002,
          1076732.6700000002,
          576494.8060000001,
          3498376.6460000006,
          1933604.9847954635,
          1968782.3399999999,
          2298777.7499999995,
          10623.117000000004,
          499483.058,
          472472.81499999994
         ]
        }
       ],
       "layout": {
        "coloraxis": {
         "colorbar": {
          "title": {
           "text": "total cases per million"
          }
         },
         "colorscale": [
          [
           0,
           "#0d0887"
          ],
          [
           0.1111111111111111,
           "#46039f"
          ],
          [
           0.2222222222222222,
           "#7201a8"
          ],
          [
           0.3333333333333333,
           "#9c179e"
          ],
          [
           0.4444444444444444,
           "#bd3786"
          ],
          [
           0.5555555555555556,
           "#d8576b"
          ],
          [
           0.6666666666666666,
           "#ed7953"
          ],
          [
           0.7777777777777778,
           "#fb9f3a"
          ],
          [
           0.8888888888888888,
           "#fdca26"
          ],
          [
           1,
           "#f0f921"
          ]
         ]
        },
        "geo": {
         "center": {},
         "domain": {
          "x": [
           0,
           1
          ],
          "y": [
           0,
           1
          ]
         },
         "scope": "world"
        },
        "height": 600,
        "legend": {
         "tracegroupgap": 0
        },
        "template": {
         "data": {
          "bar": [
           {
            "error_x": {
             "color": "#2a3f5f"
            },
            "error_y": {
             "color": "#2a3f5f"
            },
            "marker": {
             "line": {
              "color": "#E5ECF6",
              "width": 0.5
             },
             "pattern": {
              "fillmode": "overlay",
              "size": 10,
              "solidity": 0.2
             }
            },
            "type": "bar"
           }
          ],
          "barpolar": [
           {
            "marker": {
             "line": {
              "color": "#E5ECF6",
              "width": 0.5
             },
             "pattern": {
              "fillmode": "overlay",
              "size": 10,
              "solidity": 0.2
             }
            },
            "type": "barpolar"
           }
          ],
          "carpet": [
           {
            "aaxis": {
             "endlinecolor": "#2a3f5f",
             "gridcolor": "white",
             "linecolor": "white",
             "minorgridcolor": "white",
             "startlinecolor": "#2a3f5f"
            },
            "baxis": {
             "endlinecolor": "#2a3f5f",
             "gridcolor": "white",
             "linecolor": "white",
             "minorgridcolor": "white",
             "startlinecolor": "#2a3f5f"
            },
            "type": "carpet"
           }
          ],
          "choropleth": [
           {
            "colorbar": {
             "outlinewidth": 0,
             "ticks": ""
            },
            "type": "choropleth"
           }
          ],
          "contour": [
           {
            "colorbar": {
             "outlinewidth": 0,
             "ticks": ""
            },
            "colorscale": [
             [
              0,
              "#0d0887"
             ],
             [
              0.1111111111111111,
              "#46039f"
             ],
             [
              0.2222222222222222,
              "#7201a8"
             ],
             [
              0.3333333333333333,
              "#9c179e"
             ],
             [
              0.4444444444444444,
              "#bd3786"
             ],
             [
              0.5555555555555556,
              "#d8576b"
             ],
             [
              0.6666666666666666,
              "#ed7953"
             ],
             [
              0.7777777777777778,
              "#fb9f3a"
             ],
             [
              0.8888888888888888,
              "#fdca26"
             ],
             [
              1,
              "#f0f921"
             ]
            ],
            "type": "contour"
           }
          ],
          "contourcarpet": [
           {
            "colorbar": {
             "outlinewidth": 0,
             "ticks": ""
            },
            "type": "contourcarpet"
           }
          ],
          "heatmap": [
           {
            "colorbar": {
             "outlinewidth": 0,
             "ticks": ""
            },
            "colorscale": [
             [
              0,
              "#0d0887"
             ],
             [
              0.1111111111111111,
              "#46039f"
             ],
             [
              0.2222222222222222,
              "#7201a8"
             ],
             [
              0.3333333333333333,
              "#9c179e"
             ],
             [
              0.4444444444444444,
              "#bd3786"
             ],
             [
              0.5555555555555556,
              "#d8576b"
             ],
             [
              0.6666666666666666,
              "#ed7953"
             ],
             [
              0.7777777777777778,
              "#fb9f3a"
             ],
             [
              0.8888888888888888,
              "#fdca26"
             ],
             [
              1,
              "#f0f921"
             ]
            ],
            "type": "heatmap"
           }
          ],
          "heatmapgl": [
           {
            "colorbar": {
             "outlinewidth": 0,
             "ticks": ""
            },
            "colorscale": [
             [
              0,
              "#0d0887"
             ],
             [
              0.1111111111111111,
              "#46039f"
             ],
             [
              0.2222222222222222,
              "#7201a8"
             ],
             [
              0.3333333333333333,
              "#9c179e"
             ],
             [
              0.4444444444444444,
              "#bd3786"
             ],
             [
              0.5555555555555556,
              "#d8576b"
             ],
             [
              0.6666666666666666,
              "#ed7953"
             ],
             [
              0.7777777777777778,
              "#fb9f3a"
             ],
             [
              0.8888888888888888,
              "#fdca26"
             ],
             [
              1,
              "#f0f921"
             ]
            ],
            "type": "heatmapgl"
           }
          ],
          "histogram": [
           {
            "marker": {
             "pattern": {
              "fillmode": "overlay",
              "size": 10,
              "solidity": 0.2
             }
            },
            "type": "histogram"
           }
          ],
          "histogram2d": [
           {
            "colorbar": {
             "outlinewidth": 0,
             "ticks": ""
            },
            "colorscale": [
             [
              0,
              "#0d0887"
             ],
             [
              0.1111111111111111,
              "#46039f"
             ],
             [
              0.2222222222222222,
              "#7201a8"
             ],
             [
              0.3333333333333333,
              "#9c179e"
             ],
             [
              0.4444444444444444,
              "#bd3786"
             ],
             [
              0.5555555555555556,
              "#d8576b"
             ],
             [
              0.6666666666666666,
              "#ed7953"
             ],
             [
              0.7777777777777778,
              "#fb9f3a"
             ],
             [
              0.8888888888888888,
              "#fdca26"
             ],
             [
              1,
              "#f0f921"
             ]
            ],
            "type": "histogram2d"
           }
          ],
          "histogram2dcontour": [
           {
            "colorbar": {
             "outlinewidth": 0,
             "ticks": ""
            },
            "colorscale": [
             [
              0,
              "#0d0887"
             ],
             [
              0.1111111111111111,
              "#46039f"
             ],
             [
              0.2222222222222222,
              "#7201a8"
             ],
             [
              0.3333333333333333,
              "#9c179e"
             ],
             [
              0.4444444444444444,
              "#bd3786"
             ],
             [
              0.5555555555555556,
              "#d8576b"
             ],
             [
              0.6666666666666666,
              "#ed7953"
             ],
             [
              0.7777777777777778,
              "#fb9f3a"
             ],
             [
              0.8888888888888888,
              "#fdca26"
             ],
             [
              1,
              "#f0f921"
             ]
            ],
            "type": "histogram2dcontour"
           }
          ],
          "mesh3d": [
           {
            "colorbar": {
             "outlinewidth": 0,
             "ticks": ""
            },
            "type": "mesh3d"
           }
          ],
          "parcoords": [
           {
            "line": {
             "colorbar": {
              "outlinewidth": 0,
              "ticks": ""
             }
            },
            "type": "parcoords"
           }
          ],
          "pie": [
           {
            "automargin": true,
            "type": "pie"
           }
          ],
          "scatter": [
           {
            "fillpattern": {
             "fillmode": "overlay",
             "size": 10,
             "solidity": 0.2
            },
            "type": "scatter"
           }
          ],
          "scatter3d": [
           {
            "line": {
             "colorbar": {
              "outlinewidth": 0,
              "ticks": ""
             }
            },
            "marker": {
             "colorbar": {
              "outlinewidth": 0,
              "ticks": ""
             }
            },
            "type": "scatter3d"
           }
          ],
          "scattercarpet": [
           {
            "marker": {
             "colorbar": {
              "outlinewidth": 0,
              "ticks": ""
             }
            },
            "type": "scattercarpet"
           }
          ],
          "scattergeo": [
           {
            "marker": {
             "colorbar": {
              "outlinewidth": 0,
              "ticks": ""
             }
            },
            "type": "scattergeo"
           }
          ],
          "scattergl": [
           {
            "marker": {
             "colorbar": {
              "outlinewidth": 0,
              "ticks": ""
             }
            },
            "type": "scattergl"
           }
          ],
          "scattermapbox": [
           {
            "marker": {
             "colorbar": {
              "outlinewidth": 0,
              "ticks": ""
             }
            },
            "type": "scattermapbox"
           }
          ],
          "scatterpolar": [
           {
            "marker": {
             "colorbar": {
              "outlinewidth": 0,
              "ticks": ""
             }
            },
            "type": "scatterpolar"
           }
          ],
          "scatterpolargl": [
           {
            "marker": {
             "colorbar": {
              "outlinewidth": 0,
              "ticks": ""
             }
            },
            "type": "scatterpolargl"
           }
          ],
          "scatterternary": [
           {
            "marker": {
             "colorbar": {
              "outlinewidth": 0,
              "ticks": ""
             }
            },
            "type": "scatterternary"
           }
          ],
          "surface": [
           {
            "colorbar": {
             "outlinewidth": 0,
             "ticks": ""
            },
            "colorscale": [
             [
              0,
              "#0d0887"
             ],
             [
              0.1111111111111111,
              "#46039f"
             ],
             [
              0.2222222222222222,
              "#7201a8"
             ],
             [
              0.3333333333333333,
              "#9c179e"
             ],
             [
              0.4444444444444444,
              "#bd3786"
             ],
             [
              0.5555555555555556,
              "#d8576b"
             ],
             [
              0.6666666666666666,
              "#ed7953"
             ],
             [
              0.7777777777777778,
              "#fb9f3a"
             ],
             [
              0.8888888888888888,
              "#fdca26"
             ],
             [
              1,
              "#f0f921"
             ]
            ],
            "type": "surface"
           }
          ],
          "table": [
           {
            "cells": {
             "fill": {
              "color": "#EBF0F8"
             },
             "line": {
              "color": "white"
             }
            },
            "header": {
             "fill": {
              "color": "#C8D4E3"
             },
             "line": {
              "color": "white"
             }
            },
            "type": "table"
           }
          ]
         },
         "layout": {
          "annotationdefaults": {
           "arrowcolor": "#2a3f5f",
           "arrowhead": 0,
           "arrowwidth": 1
          },
          "autotypenumbers": "strict",
          "coloraxis": {
           "colorbar": {
            "outlinewidth": 0,
            "ticks": ""
           }
          },
          "colorscale": {
           "diverging": [
            [
             0,
             "#8e0152"
            ],
            [
             0.1,
             "#c51b7d"
            ],
            [
             0.2,
             "#de77ae"
            ],
            [
             0.3,
             "#f1b6da"
            ],
            [
             0.4,
             "#fde0ef"
            ],
            [
             0.5,
             "#f7f7f7"
            ],
            [
             0.6,
             "#e6f5d0"
            ],
            [
             0.7,
             "#b8e186"
            ],
            [
             0.8,
             "#7fbc41"
            ],
            [
             0.9,
             "#4d9221"
            ],
            [
             1,
             "#276419"
            ]
           ],
           "sequential": [
            [
             0,
             "#0d0887"
            ],
            [
             0.1111111111111111,
             "#46039f"
            ],
            [
             0.2222222222222222,
             "#7201a8"
            ],
            [
             0.3333333333333333,
             "#9c179e"
            ],
            [
             0.4444444444444444,
             "#bd3786"
            ],
            [
             0.5555555555555556,
             "#d8576b"
            ],
            [
             0.6666666666666666,
             "#ed7953"
            ],
            [
             0.7777777777777778,
             "#fb9f3a"
            ],
            [
             0.8888888888888888,
             "#fdca26"
            ],
            [
             1,
             "#f0f921"
            ]
           ],
           "sequentialminus": [
            [
             0,
             "#0d0887"
            ],
            [
             0.1111111111111111,
             "#46039f"
            ],
            [
             0.2222222222222222,
             "#7201a8"
            ],
            [
             0.3333333333333333,
             "#9c179e"
            ],
            [
             0.4444444444444444,
             "#bd3786"
            ],
            [
             0.5555555555555556,
             "#d8576b"
            ],
            [
             0.6666666666666666,
             "#ed7953"
            ],
            [
             0.7777777777777778,
             "#fb9f3a"
            ],
            [
             0.8888888888888888,
             "#fdca26"
            ],
            [
             1,
             "#f0f921"
            ]
           ]
          },
          "colorway": [
           "#636efa",
           "#EF553B",
           "#00cc96",
           "#ab63fa",
           "#FFA15A",
           "#19d3f3",
           "#FF6692",
           "#B6E880",
           "#FF97FF",
           "#FECB52"
          ],
          "font": {
           "color": "#2a3f5f"
          },
          "geo": {
           "bgcolor": "white",
           "lakecolor": "white",
           "landcolor": "#E5ECF6",
           "showlakes": true,
           "showland": true,
           "subunitcolor": "white"
          },
          "hoverlabel": {
           "align": "left"
          },
          "hovermode": "closest",
          "mapbox": {
           "style": "light"
          },
          "paper_bgcolor": "white",
          "plot_bgcolor": "#E5ECF6",
          "polar": {
           "angularaxis": {
            "gridcolor": "white",
            "linecolor": "white",
            "ticks": ""
           },
           "bgcolor": "#E5ECF6",
           "radialaxis": {
            "gridcolor": "white",
            "linecolor": "white",
            "ticks": ""
           }
          },
          "scene": {
           "xaxis": {
            "backgroundcolor": "#E5ECF6",
            "gridcolor": "white",
            "gridwidth": 2,
            "linecolor": "white",
            "showbackground": true,
            "ticks": "",
            "zerolinecolor": "white"
           },
           "yaxis": {
            "backgroundcolor": "#E5ECF6",
            "gridcolor": "white",
            "gridwidth": 2,
            "linecolor": "white",
            "showbackground": true,
            "ticks": "",
            "zerolinecolor": "white"
           },
           "zaxis": {
            "backgroundcolor": "#E5ECF6",
            "gridcolor": "white",
            "gridwidth": 2,
            "linecolor": "white",
            "showbackground": true,
            "ticks": "",
            "zerolinecolor": "white"
           }
          },
          "shapedefaults": {
           "line": {
            "color": "#2a3f5f"
           }
          },
          "ternary": {
           "aaxis": {
            "gridcolor": "white",
            "linecolor": "white",
            "ticks": ""
           },
           "baxis": {
            "gridcolor": "white",
            "linecolor": "white",
            "ticks": ""
           },
           "bgcolor": "#E5ECF6",
           "caxis": {
            "gridcolor": "white",
            "linecolor": "white",
            "ticks": ""
           }
          },
          "title": {
           "x": 0.05
          },
          "xaxis": {
           "automargin": true,
           "gridcolor": "white",
           "linecolor": "white",
           "ticks": "",
           "title": {
            "standoff": 15
           },
           "zerolinecolor": "white",
           "zerolinewidth": 2
          },
          "yaxis": {
           "automargin": true,
           "gridcolor": "white",
           "linecolor": "white",
           "ticks": "",
           "title": {
            "standoff": 15
           },
           "zerolinecolor": "white",
           "zerolinewidth": 2
          }
         }
        },
        "title": {
         "text": "Total covid-19 cases per million by September 2022"
        },
        "width": 1240
       }
      }
     },
     "metadata": {},
     "output_type": "display_data"
    }
   ],
   "source": [
    "fig = px.choropleth(df[df[\"date\"] == \"09-01-2022\"], locations='location', color='total_cases_per_million',\n",
    "                      scope=\"world\", locationmode='country names',\n",
    "                      labels={'total_cases_per_million':'total cases per million'},\n",
    "                      hover_data=[\"population\", \"gdp_per_capita\", \"total_deaths_per_million\"],\n",
    "                      title=\"Total covid-19 cases per million by September 2022\", width=1240, height=600,\n",
    "                    )\n",
    "fig.show()"
   ]
  },
  {
   "attachments": {},
   "cell_type": "markdown",
   "metadata": {},
   "source": [
    "**This map shows us the distribution of the total COVID-19 cases per million by September 2022 worldwide. We can also observe the number of population, GDP per capita, total cases per million, and total deaths per million by tapping on each of the given countries. We can observe how the COVID-19 was distributed over a world on a given date range.**"
   ]
  },
  {
   "cell_type": "code",
   "execution_count": 11,
   "metadata": {},
   "outputs": [
    {
     "data": {
      "image/png": "[encoded data removed]",
      "text/plain": [
       "<Figure size 1000x600 with 2 Axes>"
      ]
     },
     "metadata": {},
     "output_type": "display_data"
    }
   ],
   "source": [
    "plt.figure(figsize=(10,6))\n",
    "sns.heatmap(df.corr(), annot=True, fmt='.1f')\n",
    "plt.title(\"Correlation between all the column\")\n",
    "plt.show()"
   ]
  },
  {
   "attachments": {},
   "cell_type": "markdown",
   "metadata": {},
   "source": [
    "**This heatmap, showing the correlation values between the covid-19 dataset, it can be seen that trivially the total number of death related to Covid-19 is highly correlated with the number of new cases of Covid-19, and number of new cases is highly correlated with the population of the country too.**"
   ]
  },
  {
   "cell_type": "code",
   "execution_count": 12,
   "metadata": {},
   "outputs": [
    {
     "data": {
      "image/png": "[encoded data removed]",
      "text/plain": [
       "<Figure size 640x480 with 1 Axes>"
      ]
     },
     "metadata": {},
     "output_type": "display_data"
    }
   ],
   "source": [
    "grouped = df.groupby(\"location\")\n",
    "temp = pd.DataFrame({\n",
    "        \"population\": [grouped.get_group(i)[\"population\"].iloc[0] for i in df[\"location\"].unique()],\n",
    "        \"gdp\": [grouped.get_group(i)[\"gdp_per_capita\"].iloc[0] for i in df[\"location\"].unique()]\n",
    "})\n",
    "plt.scatter(temp[\"gdp\"][(temp[\"population\"]< 6e8) & (temp[\"gdp\"] <2.5e6)], temp[\"population\"][(temp[\"population\"]< 6e8) & (temp[\"gdp\"] <2.5e6)], color=\"g\")\n",
    "plt.title(\"GDP per capita with respect to population\")\n",
    "plt.xlabel(\"GDP per capita\")\n",
    "plt.ylabel(\"Population\")\n",
    "plt.show()"
   ]
  },
  {
   "attachments": {},
   "cell_type": "markdown",
   "metadata": {},
   "source": [
    "**This scatter plot shows the distribution of GDP per capita with respect to the population. As the population grows, GDP per capita tends to increase at a slower rate.**"
   ]
  },
  {
   "cell_type": "code",
   "execution_count": 13,
   "metadata": {},
   "outputs": [],
   "source": [
    "inf_tr = inflation[inflation[\"Country Name\"] == \"Turkiye\"]\n",
    "un_tr = unemployment[unemployment[\"LOCATION\"] == \"Turkey\"]"
   ]
  },
  {
   "cell_type": "code",
   "execution_count": 14,
   "metadata": {},
   "outputs": [
    {
     "data": {
      "image/png": "[encoded data removed]",
      "text/plain": [
       "<Figure size 1500x600 with 2 Axes>"
      ]
     },
     "metadata": {},
     "output_type": "display_data"
    }
   ],
   "source": [
    "plt.figure(figsize=(15,6))\n",
    "\n",
    "plt.subplot(1,2,1)\n",
    "c = lambda x: 'r' if x == max(inf_tr[\"Value\"]) else 'g'\n",
    "plt.bar(inf_tr[\"Year\"], inf_tr[\"Value\"],\n",
    "        color = list(map(c, inf_tr[\"Value\"]))\n",
    "        )\n",
    "plt.xlabel(\"Year\")\n",
    "plt.ylabel(\"Inflation rate\")\n",
    "plt.title(\"Infaltion rate in Turkey\")\n",
    "\n",
    "plt.subplot(1,2,2)\n",
    "c = lambda x: 'r' if x == max(un_tr[\"Value\"]) else 'g'\n",
    "plt.bar(un_tr[\"TIME\"], un_tr[\"Value\"],\n",
    "        color = list(map(c, un_tr[\"Value\"]))\n",
    "        )\n",
    "plt.xlabel(\"Year\")\n",
    "plt.ylabel(\"Unemployment rate\")\n",
    "plt.title(\"Unemployment in Turkey\")\n",
    "\n",
    "plt.show()"
   ]
  },
  {
   "attachments": {},
   "cell_type": "markdown",
   "metadata": {},
   "source": [
    "**These bar plots shows the yearly inflation rate and unemployment rates in Turkey between 2015 and 2021. It can be seen that during the pandamic the inflation rate got higher and reached a maximum, while unployment peeked at 2019 then started to fall down afterwards.**"
   ]
  },
  {
   "cell_type": "code",
   "execution_count": 15,
   "metadata": {},
   "outputs": [],
   "source": [
    "from sklearn.linear_model import LinearRegression\n",
    "model_inf = LinearRegression()\n",
    "model_inf.fit(np.arange(2015, 2021).reshape(-1, 1), inf_tr[\"Value\"][:-1]) \n",
    "predicted_inf = model_inf.predict([[2021]])"
   ]
  },
  {
   "cell_type": "code",
   "execution_count": 16,
   "metadata": {},
   "outputs": [],
   "source": [
    "model_un = LinearRegression()\n",
    "model_un.fit(np.array(un_tr[\"TIME\"][:-1]).reshape(-1, 1), un_tr[\"Value\"][:-1])\n",
    "predicted_un = model_un.predict([[2021]])"
   ]
  },
  {
   "cell_type": "code",
   "execution_count": 17,
   "metadata": {},
   "outputs": [
    {
     "data": {
      "image/png": "[encoded data removed]",
      "text/plain": [
       "<Figure size 1500x600 with 2 Axes>"
      ]
     },
     "metadata": {},
     "output_type": "display_data"
    }
   ],
   "source": [
    "plt.figure(figsize=(15,6))\n",
    "\n",
    "plt.subplot(1,2,1)\n",
    "plt.scatter(inf_tr[\"Year\"], inf_tr[\"Value\"],\n",
    "            color = 'g', label=\"Real\")\n",
    "\n",
    "plt.scatter(2021, predicted_inf, color='red', label=\"Expected\")\n",
    "\n",
    "xmin, xmax = plt.xlim()\n",
    "x = np.linspace(xmin, xmax, 50)\n",
    "y = model_inf.coef_ * x + model_inf.intercept_\n",
    "plt.plot(x, y, label=\"best fit\", color='m')\n",
    "\n",
    "plt.legend()\n",
    "plt.xlabel(\"Year\")\n",
    "plt.ylabel(\"Inflation rate\")\n",
    "plt.title(\"Infaltion rate in Turkey\")\n",
    "\n",
    "plt.subplot(1,2,2)\n",
    "plt.scatter(un_tr[\"TIME\"], un_tr[\"Value\"], color='g', label=\"Real\")\n",
    "plt.scatter(2021, predicted_un, color='red', label=\"Expected\")\n",
    "\n",
    "xmin, xmax = plt.xlim()\n",
    "x = np.linspace(xmin, xmax, 50)\n",
    "y = model_un.coef_ * x + model_un.intercept_\n",
    "plt.plot(x, y, label=\"best fit\", color='m')\n",
    "\n",
    "plt.legend()\n",
    "plt.xlabel(\"Year\")\n",
    "plt.ylabel(\"Unemployment rate\")\n",
    "plt.title(\"Uneployment rate in Turkey\")\n",
    "\n",
    "plt.show()"
   ]
  },
  {
   "attachments": {},
   "cell_type": "markdown",
   "metadata": {},
   "source": [
    "**These plots show the real and expected, calculated using linear regression, values for inflation rate and unemployment rate. It can be seen that if the inflation rate had countinued increasing at the same rate it would have been lower than its value after the pandamic which suggests a correlation between inflation rate and Covid-19 but not necessarily causation.**\n",
    "\n",
    "**On the other hand, the expected unemployment is higher than it's true value.**"
   ]
  },
  {
   "cell_type": "code",
   "execution_count": 18,
   "metadata": {},
   "outputs": [
    {
     "data": {
      "application/vnd.plotly.v1+json": {
       "config": {
        "plotlyServerURL": "https://plot.ly"
       },
       "data": [
        {
         "name": "Exports",
         "type": "bar",
         "x": [
          2015,
          2016,
          2017,
          2018,
          2019,
          2020,
          2021,
          2018,
          2017,
          2015,
          2016,
          2019,
          2021,
          2020
         ],
         "y": [
          0,
          0,
          0,
          0,
          0,
          0,
          0,
          0,
          0,
          0,
          0,
          0,
          0,
          0
         ]
        },
        {
         "name": "Imports",
         "type": "bar",
         "x": [
          2015,
          2016,
          2017,
          2018,
          2019,
          2020,
          2021,
          2018,
          2017,
          2015,
          2016,
          2019,
          2021,
          2020
         ],
         "y": [
          213619.2115,
          202189.2419,
          238715.1279,
          231152.4826,
          210345.2026,
          219516.8068,
          271425.5395,
          177168.7563,
          164494.6193,
          150982.1138,
          149246.9993,
          180832.7217,
          225217.7755,
          169637.7553
         ]
        }
       ],
       "layout": {
        "barmode": "group",
        "template": {
         "data": {
          "bar": [
           {
            "error_x": {
             "color": "#2a3f5f"
            },
            "error_y": {
             "color": "#2a3f5f"
            },
            "marker": {
             "line": {
              "color": "#E5ECF6",
              "width": 0.5
             },
             "pattern": {
              "fillmode": "overlay",
              "size": 10,
              "solidity": 0.2
             }
            },
            "type": "bar"
           }
          ],
          "barpolar": [
           {
            "marker": {
             "line": {
              "color": "#E5ECF6",
              "width": 0.5
             },
             "pattern": {
              "fillmode": "overlay",
              "size": 10,
              "solidity": 0.2
             }
            },
            "type": "barpolar"
           }
          ],
          "carpet": [
           {
            "aaxis": {
             "endlinecolor": "#2a3f5f",
             "gridcolor": "white",
             "linecolor": "white",
             "minorgridcolor": "white",
             "startlinecolor": "#2a3f5f"
            },
            "baxis": {
             "endlinecolor": "#2a3f5f",
             "gridcolor": "white",
             "linecolor": "white",
             "minorgridcolor": "white",
             "startlinecolor": "#2a3f5f"
            },
            "type": "carpet"
           }
          ],
          "choropleth": [
           {
            "colorbar": {
             "outlinewidth": 0,
             "ticks": ""
            },
            "type": "choropleth"
           }
          ],
          "contour": [
           {
            "colorbar": {
             "outlinewidth": 0,
             "ticks": ""
            },
            "colorscale": [
             [
              0,
              "#0d0887"
             ],
             [
              0.1111111111111111,
              "#46039f"
             ],
             [
              0.2222222222222222,
              "#7201a8"
             ],
             [
              0.3333333333333333,
              "#9c179e"
             ],
             [
              0.4444444444444444,
              "#bd3786"
             ],
             [
              0.5555555555555556,
              "#d8576b"
             ],
             [
              0.6666666666666666,
              "#ed7953"
             ],
             [
              0.7777777777777778,
              "#fb9f3a"
             ],
             [
              0.8888888888888888,
              "#fdca26"
             ],
             [
              1,
              "#f0f921"
             ]
            ],
            "type": "contour"
           }
          ],
          "contourcarpet": [
           {
            "colorbar": {
             "outlinewidth": 0,
             "ticks": ""
            },
            "type": "contourcarpet"
           }
          ],
          "heatmap": [
           {
            "colorbar": {
             "outlinewidth": 0,
             "ticks": ""
            },
            "colorscale": [
             [
              0,
              "#0d0887"
             ],
             [
              0.1111111111111111,
              "#46039f"
             ],
             [
              0.2222222222222222,
              "#7201a8"
             ],
             [
              0.3333333333333333,
              "#9c179e"
             ],
             [
              0.4444444444444444,
              "#bd3786"
             ],
             [
              0.5555555555555556,
              "#d8576b"
             ],
             [
              0.6666666666666666,
              "#ed7953"
             ],
             [
              0.7777777777777778,
              "#fb9f3a"
             ],
             [
              0.8888888888888888,
              "#fdca26"
             ],
             [
              1,
              "#f0f921"
             ]
            ],
            "type": "heatmap"
           }
          ],
          "heatmapgl": [
           {
            "colorbar": {
             "outlinewidth": 0,
             "ticks": ""
            },
            "colorscale": [
             [
              0,
              "#0d0887"
             ],
             [
              0.1111111111111111,
              "#46039f"
             ],
             [
              0.2222222222222222,
              "#7201a8"
             ],
             [
              0.3333333333333333,
              "#9c179e"
             ],
             [
              0.4444444444444444,
              "#bd3786"
             ],
             [
              0.5555555555555556,
              "#d8576b"
             ],
             [
              0.6666666666666666,
              "#ed7953"
             ],
             [
              0.7777777777777778,
              "#fb9f3a"
             ],
             [
              0.8888888888888888,
              "#fdca26"
             ],
             [
              1,
              "#f0f921"
             ]
            ],
            "type": "heatmapgl"
           }
          ],
          "histogram": [
           {
            "marker": {
             "pattern": {
              "fillmode": "overlay",
              "size": 10,
              "solidity": 0.2
             }
            },
            "type": "histogram"
           }
          ],
          "histogram2d": [
           {
            "colorbar": {
             "outlinewidth": 0,
             "ticks": ""
            },
            "colorscale": [
             [
              0,
              "#0d0887"
             ],
             [
              0.1111111111111111,
              "#46039f"
             ],
             [
              0.2222222222222222,
              "#7201a8"
             ],
             [
              0.3333333333333333,
              "#9c179e"
             ],
             [
              0.4444444444444444,
              "#bd3786"
             ],
             [
              0.5555555555555556,
              "#d8576b"
             ],
             [
              0.6666666666666666,
              "#ed7953"
             ],
             [
              0.7777777777777778,
              "#fb9f3a"
             ],
             [
              0.8888888888888888,
              "#fdca26"
             ],
             [
              1,
              "#f0f921"
             ]
            ],
            "type": "histogram2d"
           }
          ],
          "histogram2dcontour": [
           {
            "colorbar": {
             "outlinewidth": 0,
             "ticks": ""
            },
            "colorscale": [
             [
              0,
              "#0d0887"
             ],
             [
              0.1111111111111111,
              "#46039f"
             ],
             [
              0.2222222222222222,
              "#7201a8"
             ],
             [
              0.3333333333333333,
              "#9c179e"
             ],
             [
              0.4444444444444444,
              "#bd3786"
             ],
             [
              0.5555555555555556,
              "#d8576b"
             ],
             [
              0.6666666666666666,
              "#ed7953"
             ],
             [
              0.7777777777777778,
              "#fb9f3a"
             ],
             [
              0.8888888888888888,
              "#fdca26"
             ],
             [
              1,
              "#f0f921"
             ]
            ],
            "type": "histogram2dcontour"
           }
          ],
          "mesh3d": [
           {
            "colorbar": {
             "outlinewidth": 0,
             "ticks": ""
            },
            "type": "mesh3d"
           }
          ],
          "parcoords": [
           {
            "line": {
             "colorbar": {
              "outlinewidth": 0,
              "ticks": ""
             }
            },
            "type": "parcoords"
           }
          ],
          "pie": [
           {
            "automargin": true,
            "type": "pie"
           }
          ],
          "scatter": [
           {
            "fillpattern": {
             "fillmode": "overlay",
             "size": 10,
             "solidity": 0.2
            },
            "type": "scatter"
           }
          ],
          "scatter3d": [
           {
            "line": {
             "colorbar": {
              "outlinewidth": 0,
              "ticks": ""
             }
            },
            "marker": {
             "colorbar": {
              "outlinewidth": 0,
              "ticks": ""
             }
            },
            "type": "scatter3d"
           }
          ],
          "scattercarpet": [
           {
            "marker": {
             "colorbar": {
              "outlinewidth": 0,
              "ticks": ""
             }
            },
            "type": "scattercarpet"
           }
          ],
          "scattergeo": [
           {
            "marker": {
             "colorbar": {
              "outlinewidth": 0,
              "ticks": ""
             }
            },
            "type": "scattergeo"
           }
          ],
          "scattergl": [
           {
            "marker": {
             "colorbar": {
              "outlinewidth": 0,
              "ticks": ""
             }
            },
            "type": "scattergl"
           }
          ],
          "scattermapbox": [
           {
            "marker": {
             "colorbar": {
              "outlinewidth": 0,
              "ticks": ""
             }
            },
            "type": "scattermapbox"
           }
          ],
          "scatterpolar": [
           {
            "marker": {
             "colorbar": {
              "outlinewidth": 0,
              "ticks": ""
             }
            },
            "type": "scatterpolar"
           }
          ],
          "scatterpolargl": [
           {
            "marker": {
             "colorbar": {
              "outlinewidth": 0,
              "ticks": ""
             }
            },
            "type": "scatterpolargl"
           }
          ],
          "scatterternary": [
           {
            "marker": {
             "colorbar": {
              "outlinewidth": 0,
              "ticks": ""
             }
            },
            "type": "scatterternary"
           }
          ],
          "surface": [
           {
            "colorbar": {
             "outlinewidth": 0,
             "ticks": ""
            },
            "colorscale": [
             [
              0,
              "#0d0887"
             ],
             [
              0.1111111111111111,
              "#46039f"
             ],
             [
              0.2222222222222222,
              "#7201a8"
             ],
             [
              0.3333333333333333,
              "#9c179e"
             ],
             [
              0.4444444444444444,
              "#bd3786"
             ],
             [
              0.5555555555555556,
              "#d8576b"
             ],
             [
              0.6666666666666666,
              "#ed7953"
             ],
             [
              0.7777777777777778,
              "#fb9f3a"
             ],
             [
              0.8888888888888888,
              "#fdca26"
             ],
             [
              1,
              "#f0f921"
             ]
            ],
            "type": "surface"
           }
          ],
          "table": [
           {
            "cells": {
             "fill": {
              "color": "#EBF0F8"
             },
             "line": {
              "color": "white"
             }
            },
            "header": {
             "fill": {
              "color": "#C8D4E3"
             },
             "line": {
              "color": "white"
             }
            },
            "type": "table"
           }
          ]
         },
         "layout": {
          "annotationdefaults": {
           "arrowcolor": "#2a3f5f",
           "arrowhead": 0,
           "arrowwidth": 1
          },
          "autotypenumbers": "strict",
          "coloraxis": {
           "colorbar": {
            "outlinewidth": 0,
            "ticks": ""
           }
          },
          "colorscale": {
           "diverging": [
            [
             0,
             "#8e0152"
            ],
            [
             0.1,
             "#c51b7d"
            ],
            [
             0.2,
             "#de77ae"
            ],
            [
             0.3,
             "#f1b6da"
            ],
            [
             0.4,
             "#fde0ef"
            ],
            [
             0.5,
             "#f7f7f7"
            ],
            [
             0.6,
             "#e6f5d0"
            ],
            [
             0.7,
             "#b8e186"
            ],
            [
             0.8,
             "#7fbc41"
            ],
            [
             0.9,
             "#4d9221"
            ],
            [
             1,
             "#276419"
            ]
           ],
           "sequential": [
            [
             0,
             "#0d0887"
            ],
            [
             0.1111111111111111,
             "#46039f"
            ],
            [
             0.2222222222222222,
             "#7201a8"
            ],
            [
             0.3333333333333333,
             "#9c179e"
            ],
            [
             0.4444444444444444,
             "#bd3786"
            ],
            [
             0.5555555555555556,
             "#d8576b"
            ],
            [
             0.6666666666666666,
             "#ed7953"
            ],
            [
             0.7777777777777778,
             "#fb9f3a"
            ],
            [
             0.8888888888888888,
             "#fdca26"
            ],
            [
             1,
             "#f0f921"
            ]
           ],
           "sequentialminus": [
            [
             0,
             "#0d0887"
            ],
            [
             0.1111111111111111,
             "#46039f"
            ],
            [
             0.2222222222222222,
             "#7201a8"
            ],
            [
             0.3333333333333333,
             "#9c179e"
            ],
            [
             0.4444444444444444,
             "#bd3786"
            ],
            [
             0.5555555555555556,
             "#d8576b"
            ],
            [
             0.6666666666666666,
             "#ed7953"
            ],
            [
             0.7777777777777778,
             "#fb9f3a"
            ],
            [
             0.8888888888888888,
             "#fdca26"
            ],
            [
             1,
             "#f0f921"
            ]
           ]
          },
          "colorway": [
           "#636efa",
           "#EF553B",
           "#00cc96",
           "#ab63fa",
           "#FFA15A",
           "#19d3f3",
           "#FF6692",
           "#B6E880",
           "#FF97FF",
           "#FECB52"
          ],
          "font": {
           "color": "#2a3f5f"
          },
          "geo": {
           "bgcolor": "white",
           "lakecolor": "white",
           "landcolor": "#E5ECF6",
           "showlakes": true,
           "showland": true,
           "subunitcolor": "white"
          },
          "hoverlabel": {
           "align": "left"
          },
          "hovermode": "closest",
          "mapbox": {
           "style": "light"
          },
          "paper_bgcolor": "white",
          "plot_bgcolor": "#E5ECF6",
          "polar": {
           "angularaxis": {
            "gridcolor": "white",
            "linecolor": "white",
            "ticks": ""
           },
           "bgcolor": "#E5ECF6",
           "radialaxis": {
            "gridcolor": "white",
            "linecolor": "white",
            "ticks": ""
           }
          },
          "scene": {
           "xaxis": {
            "backgroundcolor": "#E5ECF6",
            "gridcolor": "white",
            "gridwidth": 2,
            "linecolor": "white",
            "showbackground": true,
            "ticks": "",
            "zerolinecolor": "white"
           },
           "yaxis": {
            "backgroundcolor": "#E5ECF6",
            "gridcolor": "white",
            "gridwidth": 2,
            "linecolor": "white",
            "showbackground": true,
            "ticks": "",
            "zerolinecolor": "white"
           },
           "zaxis": {
            "backgroundcolor": "#E5ECF6",
            "gridcolor": "white",
            "gridwidth": 2,
            "linecolor": "white",
            "showbackground": true,
            "ticks": "",
            "zerolinecolor": "white"
           }
          },
          "shapedefaults": {
           "line": {
            "color": "#2a3f5f"
           }
          },
          "ternary": {
           "aaxis": {
            "gridcolor": "white",
            "linecolor": "white",
            "ticks": ""
           },
           "baxis": {
            "gridcolor": "white",
            "linecolor": "white",
            "ticks": ""
           },
           "bgcolor": "#E5ECF6",
           "caxis": {
            "gridcolor": "white",
            "linecolor": "white",
            "ticks": ""
           }
          },
          "title": {
           "x": 0.05
          },
          "xaxis": {
           "automargin": true,
           "gridcolor": "white",
           "linecolor": "white",
           "ticks": "",
           "title": {
            "standoff": 15
           },
           "zerolinecolor": "white",
           "zerolinewidth": 2
          },
          "yaxis": {
           "automargin": true,
           "gridcolor": "white",
           "linecolor": "white",
           "ticks": "",
           "title": {
            "standoff": 15
           },
           "zerolinecolor": "white",
           "zerolinewidth": 2
          }
         }
        },
        "title": {
         "text": "Exports and Imports for Turkey"
        }
       }
      }
     },
     "metadata": {},
     "output_type": "display_data"
    }
   ],
   "source": [
    "temp = trade[trade[\"Country\"] == \"Turkey\"]\n",
    "fig = go.Figure(data=[\n",
    "    go.Bar(name=\"Exports\", x=temp[\"Time\"], y=temp[\"Exports\"]),\n",
    "    go.Bar(name=\"Imports\", x=temp[\"Time\"], y=temp[\"Imports\"])\n",
    "])\n",
    "\n",
    "fig.update_layout(barmode='group', title_text=\"Exports and Imports for Turkey\")\n",
    "fig.show()"
   ]
  },
  {
   "attachments": {},
   "cell_type": "markdown",
   "metadata": {},
   "source": [
    "**This bargraph shows us the amount of exports and imports for Turkey for each year begining of the 2015 untill 2021. From this graph it can be observed that both Export and Imports are slightly fluctuated between these years, but both have increased in their amounts eventually.**"
   ]
  },
  {
   "cell_type": "code",
   "execution_count": 19,
   "metadata": {},
   "outputs": [],
   "source": [
    "per_year = [0] * 5\n",
    "per_year.append(df[df[\"date\"] == \"12-01-2020\"][\"total_cases_per_million\"].mean())\n",
    "per_year.append(df[df[\"date\"] == \"12-01-2021\"][\"total_cases_per_million\"].mean())\n",
    "co2_means = co2.groupby(\"Time\").mean()[\"Annual CO2 emissions (per capita)\"].to_numpy()"
   ]
  },
  {
   "cell_type": "code",
   "execution_count": 20,
   "metadata": {},
   "outputs": [
    {
     "data": {
      "image/png": "[encoded data removed]",
      "text/plain": [
       "<Figure size 900x600 with 2 Axes>"
      ]
     },
     "metadata": {},
     "output_type": "display_data"
    }
   ],
   "source": [
    "plt.figure(figsize=(9,6))\n",
    "sns.heatmap(np.corrcoef(per_year, co2_means), annot=True, fmt='.2f')\n",
    "plt.xticks([.5,1.5], labels=['Covid-19', \"CO2\"])\n",
    "plt.yticks([.5,1.5], labels=['Covid-19', \"CO2\"])\n",
    "plt.title(\"Correlation between CO2 emittions and Covid-19 pandamic\\n\")\n",
    "plt.show()"
   ]
  },
  {
   "attachments": {},
   "cell_type": "markdown",
   "metadata": {},
   "source": [
    "**This heatmap is a visualization of the confusion matrix that shows us the Correlation between CO2 emissions and total cases per million per year. As it can be observed from the heatmap, we can state that the correlation between these two factors is -0.6. It means that since the COVID-19 period commenced CO2 emissions decreased.**"
   ]
  },
  {
   "attachments": {},
   "cell_type": "markdown",
   "metadata": {},
   "source": [
    "#### Hypothesis: Monthly number of new covid-19 cases was larger before mid-2021 (June 2021)."
   ]
  },
  {
   "cell_type": "code",
   "execution_count": 21,
   "metadata": {},
   "outputs": [],
   "source": [
    "before_mid = df[df[\"date\"] < \"07-01-2021\"][\"new_cases\"]\n",
    "after_mid = df[df[\"date\"] >= \"07-01-2021\"][\"new_cases\"]"
   ]
  },
  {
   "cell_type": "code",
   "execution_count": 22,
   "metadata": {},
   "outputs": [
    {
     "name": "stdout",
     "output_type": "stream",
     "text": [
      "Average monthly number of new covid-19 case berfore June 2021: 238804.76861956547\n",
      "Average monthly number of new covid-19 case after June 2021: 514711.016529275\n"
     ]
    }
   ],
   "source": [
    "print(f'Average monthly number of new covid-19 case berfore June 2021: {before_mid.mean()}')\n",
    "print(f'Average monthly number of new covid-19 case after June 2021: {after_mid.mean()}')"
   ]
  },
  {
   "cell_type": "code",
   "execution_count": 23,
   "metadata": {},
   "outputs": [
    {
     "name": "stdout",
     "output_type": "stream",
     "text": [
      "The P-value is: 9.403247004429627e-07\n"
     ]
    }
   ],
   "source": [
    "from scipy.stats import ttest_ind\n",
    "_, p_val = ttest_ind(before_mid, after_mid)\n",
    "print(f\"The P-value is: {p_val}\")"
   ]
  },
  {
   "attachments": {},
   "cell_type": "markdown",
   "metadata": {},
   "source": [
    "Since the average number of covid-19 new cases before June 2021 is larger than that after it and the P value is less than 0.05 the null hypothesis is ***rejected***."
   ]
  },
  {
   "attachments": {},
   "cell_type": "markdown",
   "metadata": {},
   "source": [
    "### Possible Product\n",
    "This analysis can be used to study the effects of the pandamic on various aspects of people's livelihood, which can be useful for preventing, maybe even seize it as an opportunity, such negative effects in case of a similar event or pandamic in the future."
   ]
  },
  {
   "attachments": {},
   "cell_type": "markdown",
   "metadata": {},
   "source": [
    "### Data Eng. Issues\n",
    "\n",
    "There are several data engineering issues that may need to be addressed when building a product or service, including:\n",
    "\n",
    "**Data storage:** How will the data be stored and accessed? This includes considerations such as the type of database to use, the structure of the data, and the performance and scalability requirements.\n",
    "\n",
    "**Data ingestion:** How will the data be collected and imported into the system? This may involve data sources such as APIs, web scraping, or batch imports, and requires planning for issues such as data formatting and cleaning, error handling, and scheduling.\n",
    "\n",
    "**Data transformation:** How will the data be cleaned, transformed, and integrated with other data sources? This may involve tasks such as data cleansing, normalization, aggregation, and integration with other systems.\n",
    "\n",
    "**Data processing:** How will the data be processed and analyzed in order to extract value from it? This may involve tasks such as machine learning, data modeling, and data visualization.\n",
    "\n",
    "**Data security:** How will the data be protected and kept secure? This includes considerations such as data encryption, access control, and disaster recovery.\n",
    "\n",
    "**Data governance:** How will the data be managed and governed to ensure compliance with relevant regulations and standards? This may involve tasks such as data classification, data retention, and data privacy."
   ]
  },
  {
   "attachments": {},
   "cell_type": "markdown",
   "metadata": {},
   "source": [
    "### Ethical Issues\n",
    "\n",
    "\n",
    "In this project, we do not have any ethical issues as we are only using open-source data, which is freely available to be collected. However, if we were to gather data through web scraping, we would need to ensure that we have permission from the website to do so. If we do not have permission, it could be considered unethical, even if it is not necessarily illegal. It is important to consider the ethical implications of data collection and ensure that we are acting responsibly and respecting the rights of others."
   ]
  }
 ],
 "metadata": {
  "kernelspec": {
   "display_name": "Python 3",
   "language": "python",
   "name": "python3"
  },
  "language_info": {
   "codemirror_mode": {
    "name": "ipython",
    "version": 3
   },
   "file_extension": ".py",
   "mimetype": "text/x-python",
   "name": "python",
   "nbconvert_exporter": "python",
   "pygments_lexer": "ipython3",
   "version": "3.9.13"
  },
  "orig_nbformat": 4,
  "vscode": {
   "interpreter": {
    "hash": "09027da650f38ba7236ad064b542871ad48182107e90fa836c288587285bdc63"
   }
  }
 },
 "nbformat": 4,
 "nbformat_minor": 2
}
